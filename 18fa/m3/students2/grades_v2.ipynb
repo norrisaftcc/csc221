{
 "cells": [
  {
   "cell_type": "code",
   "execution_count": null,
   "metadata": {},
   "outputs": [],
   "source": [
    "# grades_v2 -- 10/3 attempt at tackling m2t2"
   ]
  },
  {
   "cell_type": "markdown",
   "metadata": {},
   "source": [
    "Last time we talked about creating a list of names and a list of grades, then using index to match the two.\n",
    "However, if we sort one list, now they don't match any more (sorting both lists means Alice now has the lowest GPA!)\n",
    "\n",
    "Let's try to work with students as records, where a record is just a list with the student's info.\n",
    "Then our data is a list of records (a list of lists)\n",
    "\n",
    "First we'll rework our load function to use this format."
   ]
  },
  {
   "cell_type": "code",
   "execution_count": 5,
   "metadata": {},
   "outputs": [],
   "source": [
    "import csv\n",
    "\n",
    "def load_csv_as_records(filename, skipHeader = False):\n",
    "    \"\"\"\n",
    "    input: a filename (must be in the same path)\n",
    "    output: a list of records, where each record contains one student's data\n",
    "    \"\"\"\n",
    "    # constants indicating which rows in the CSV are which\n",
    "    NAME = 0\n",
    "    MAJOR = 1\n",
    "    GPA = 2\n",
    "    \n",
    "    records = []\n",
    "    # with x is a Python construct that automatically cleans up when you leave the with block. \n",
    "    # This closes the file for us.\n",
    "    with open(filename) as f:\n",
    "        reader = csv.reader(f)\n",
    "        # if the first line was a header and not real data, we'd use next to skip it\n",
    "        if skipHeader:\n",
    "            next(reader)\n",
    "        # iterate through the records\n",
    "        for row in reader:\n",
    "            #print(records)\n",
    "            # each row is a new record\n",
    "            student = []\n",
    "            student.append(row[NAME])\n",
    "            student.append(row[GPA])\n",
    "            # now that the record is complete, add it to the list\n",
    "            records.append(student)\n",
    "    return records"
   ]
  },
  {
   "cell_type": "code",
   "execution_count": 6,
   "metadata": {},
   "outputs": [
    {
     "name": "stdout",
     "output_type": "stream",
     "text": [
      "Student List:\n",
      "_____________\n",
      "['Alice', ' 3.7']\n",
      "['Bob', ' 2.9']\n",
      "['Charles', ' 3.4']\n",
      "['David', ' 3.1']\n",
      "['Ellen', ' 1.9']\n",
      "['Francine', ' 3.8']\n"
     ]
    }
   ],
   "source": [
    "# confirm our code works\n",
    "def load_and_print():\n",
    "    students = load_csv_as_records(\"students.csv\")\n",
    "    print(\"Student List:\")\n",
    "    print(\"_____________\")\n",
    "    for student in students:\n",
    "        print(student)\n",
    "\n",
    "load_and_print()"
   ]
  },
  {
   "cell_type": "markdown",
   "metadata": {},
   "source": [
    "Now let's try this with students2.csv. \n",
    "This has two important differences: it's not already in alphabetical order, and there's a header of column names (which is handy in Excel, but is garbage data to us). \n",
    "\n",
    "We'll try sorting by name and printing.\n",
    "Let's try sorting the list using the built in methods:\n",
    "https://wiki.python.org/moin/HowTo/Sorting\n"
   ]
  },
  {
   "cell_type": "code",
   "execution_count": 7,
   "metadata": {},
   "outputs": [
    {
     "name": "stdout",
     "output_type": "stream",
     "text": [
      "Student List:\n",
      "_____________\n",
      "['Alice', ' 3.7']\n",
      "['Bob', ' 2.9']\n",
      "['Charles', ' 3.4']\n",
      "['David', ' 3.1']\n",
      "['Ellen', ' 1.9']\n",
      "['Francis', ' 3.8']\n",
      "['George', ' 3.7']\n"
     ]
    }
   ],
   "source": [
    "def load_and_print2():\n",
    "    students = load_csv_as_records(\"students2.csv\", skipHeader=True)\n",
    "    students.sort()\n",
    "    print(\"Student List:\")\n",
    "    print(\"_____________\")\n",
    "    for student in students:\n",
    "        print(student)\n",
    "\n",
    "load_and_print2()\n",
    "    "
   ]
  },
  {
   "cell_type": "code",
   "execution_count": 8,
   "metadata": {},
   "outputs": [
    {
     "name": "stdout",
     "output_type": "stream",
     "text": [
      "[['Alice', ' 3.7'], ['Bob', ' 2.9'], ['Charles', ' 3.4'], ['David', ' 3.1'], ['Ellen', ' 1.9'], ['Francis', ' 3.8'], ['George', ' 3.7']]\n"
     ]
    }
   ],
   "source": [
    "# it turns out that the default behavior for sorting a list of lists (instead of a list of strings) worked out for us!\n",
    "# Can we reorganize the data to also sort by GPA?\n",
    "\n",
    "students = load_csv_as_records(\"students2.csv\",True)\n",
    "studentsByGPA = sorted(students) # sorted() returns a new list, so this is a deep copy\n",
    "print(studentsByGPA)"
   ]
  },
  {
   "cell_type": "code",
   "execution_count": 9,
   "metadata": {},
   "outputs": [
    {
     "name": "stdout",
     "output_type": "stream",
     "text": [
      "[[' 3.7', 'Alice'], [' 2.9', 'Bob'], [' 3.4', 'Charles'], [' 3.1', 'David'], [' 1.9', 'Ellen'], [' 3.8', 'Francis'], [' 3.7', 'George']]\n"
     ]
    }
   ],
   "source": [
    "# well that's sorted by name, that's no good.\n",
    "# what if we swap the values?\n",
    "\n",
    "def swap(a, b):   \n",
    "    temp = a     # we need a temp variable so we don't 'clobber' one of the values.\n",
    "    a = b        # now a contains the original value of b\n",
    "    b = temp     # now b contains the original value of a\n",
    "    return a,b\n",
    "\n",
    "# some constants to make it clear what's happening\n",
    "\n",
    "\n",
    "for student in studentsByGPA:\n",
    "    student[0], student[1] = swap(student[0], student[1])\n",
    "    \n",
    "# did it work?\n",
    "print(studentsByGPA)"
   ]
  },
  {
   "cell_type": "code",
   "execution_count": 10,
   "metadata": {},
   "outputs": [
    {
     "name": "stdout",
     "output_type": "stream",
     "text": [
      "[[' 1.9', 'Ellen'], [' 2.9', 'Bob'], [' 3.1', 'David'], [' 3.4', 'Charles'], [' 3.7', 'Alice'], [' 3.7', 'George'], [' 3.8', 'Francis']]\n"
     ]
    }
   ],
   "source": [
    "# now we sort the list again\n",
    "studentsByGPA.sort()\n",
    "print(studentsByGPA)"
   ]
  },
  {
   "cell_type": "markdown",
   "metadata": {},
   "source": [
    "We've now established that lists of lists seem to be sorted by the first entry in the list.\n",
    "Put name first, it gets sorted by name.\n",
    "Put GPA first, it gets sorted by GPA.\n",
    "\n"
   ]
  },
  {
   "cell_type": "code",
   "execution_count": 11,
   "metadata": {},
   "outputs": [
    {
     "name": "stdout",
     "output_type": "stream",
     "text": [
      "Name\tGPA\n",
      "____\t___\n",
      "Ellen\t 1.9\n",
      "Bob\t 2.9\n",
      "David\t 3.1\n",
      "Charles\t 3.4\n",
      "Alice\t 3.7\n",
      "George\t 3.7\n",
      "Francis\t 3.8\n"
     ]
    }
   ],
   "source": [
    "# pretty print with the names first\n",
    "print(\"Name\\tGPA\")\n",
    "print(\"____\\t___\")\n",
    "for student in studentsByGPA:\n",
    "        print(\"{0}\\t{1}\".format(student[1], student[0]))"
   ]
  },
  {
   "cell_type": "markdown",
   "metadata": {},
   "source": [
    "### Completing M2T2\n",
    "#### due 10/7\n",
    "\n",
    "Using the ideas covered here, create M2T2_Lastname.py.\n",
    "It should have a menu with the options\n",
    "\n",
    "1. Load file\n",
    "2. Show students by name\n",
    "3. Show students by GPA\n",
    "4. Exit\n",
    "\n",
    "Bonus (see below): use pickle to save our data so that the program works even without a CSV file.\n",
    "\n",
    "modified menu for this version:\n",
    "\n",
    "1. Load CSV\n",
    "2. Create pickle file\n",
    "3. Load pickle file\n",
    "4. Show students by name\n",
    "5. Show students by GPA\n",
    "6. exit\n"
   ]
  },
  {
   "cell_type": "code",
   "execution_count": 12,
   "metadata": {},
   "outputs": [],
   "source": [
    "# bonus: using pickle\n",
    "import pickle\n",
    "\n",
    "def saveList(filename, records):\n",
    "    \"\"\"\n",
    "    saves a list to a file in binary format\n",
    "    input: filename and a list object to write\n",
    "    output: none\n",
    "    \"\"\"\n",
    "    file = open(filename, \"wb\") # write, binary\n",
    "    for record in records:\n",
    "        pickle.dump(record, file)\n",
    "    file.close()\n",
    "    \n",
    "def loadList(filename):\n",
    "    \"\"\"\n",
    "    loads a list from a binary file\n",
    "    input: filename\n",
    "    output: the list\n",
    "    \"\"\"\n",
    "    records = []\n",
    "    file = open(filename, \"rb\") # read, binary\n",
    "    # loop until end of file\n",
    "    while True:\n",
    "        try:\n",
    "            record = pickle.load(file)\n",
    "            records.append(record)\n",
    "        except EOFError:\n",
    "            file.close()\n",
    "            break # we're done\n",
    "    return records\n",
    "        "
   ]
  },
  {
   "cell_type": "code",
   "execution_count": 13,
   "metadata": {},
   "outputs": [
    {
     "name": "stdout",
     "output_type": "stream",
     "text": [
      "[[' 3.7', 'Alice'], [' 2.9', 'Bob'], [' 3.4', 'Charles'], [' 3.8', 'Francis'], [' 3.7', 'George'], [' 3.1', 'David'], [' 1.9', 'Ellen']]\n",
      " - saving - \n",
      "[] students is empty\n",
      " - loading - \n",
      "[[' 3.7', 'Alice'], [' 2.9', 'Bob'], [' 3.4', 'Charles'], [' 3.8', 'Francis'], [' 3.7', 'George'], [' 3.1', 'David'], [' 1.9', 'Ellen']]\n"
     ]
    }
   ],
   "source": [
    "# let's test it out\n",
    "print(students)\n",
    "print(\" - saving - \")\n",
    "saveList(\"students.dat\",students)\n",
    "students = []\n",
    "print(students, \"students is empty\")\n",
    "print(\" - loading - \")\n",
    "students = loadList(\"students.dat\")\n",
    "print(students)"
   ]
  },
  {
   "cell_type": "code",
   "execution_count": 14,
   "metadata": {},
   "outputs": [],
   "source": [
    "# we could have pickled the entire list, but we need to know how to do it record by record\n",
    "# as not all future data structures can be pickled without iterating through them.\n",
    "file = open (\"full_list.dat\", \"wb\")\n",
    "pickle.dump(students, file)\n",
    "file.close()\n",
    "# if you compare this file to the other .dat you'll see it's a bit different."
   ]
  },
  {
   "cell_type": "code",
   "execution_count": null,
   "metadata": {},
   "outputs": [],
   "source": []
  }
 ],
 "metadata": {
  "kernelspec": {
   "display_name": "Python 3",
   "language": "python",
   "name": "python3"
  },
  "language_info": {
   "codemirror_mode": {
    "name": "ipython",
    "version": 3
   },
   "file_extension": ".py",
   "mimetype": "text/x-python",
   "name": "python",
   "nbconvert_exporter": "python",
   "pygments_lexer": "ipython3",
   "version": "3.6.5"
  }
 },
 "nbformat": 4,
 "nbformat_minor": 2
}
