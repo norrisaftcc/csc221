{
 "cells": [
  {
   "cell_type": "markdown",
   "metadata": {},
   "source": [
    "## M4 Example\n",
    "###\n",
    "### Data Structures: Linked List"
   ]
  },
  {
   "cell_type": "markdown",
   "metadata": {},
   "source": [
    "In Jupyter, manually switch between code and markdown depending on the content of a given cell.\n",
    "### headers use the # symbol in markdown\n",
    "######## more # -> smaller header (such as h1, h2, etc.)\n",
    "\n",
    "first let's define a Node class."
   ]
  },
  {
   "cell_type": "code",
   "execution_count": 1,
   "metadata": {
    "collapsed": true
   },
   "outputs": [],
   "source": [
    "class Node(object):\n",
    "    def __init__(self, contents=None):\n",
    "        self.contents = contents\n",
    "        self.prev = None\n",
    "        self.next = None\n",
    "        \n",
    "    def __repr__(self):\n",
    "        # string representation (__repr__ and __str__ are equivalent)\n",
    "        return \"Node(\"+ str(self.contents) +\")\"\n",
    "    \n",
    "    def getPrev(self):\n",
    "        return self.prev\n",
    "    \n",
    "    def setPrev(self, previous=None):\n",
    "        self.prev = previous\n",
    "        \n",
    "    def getNext(self):\n",
    "        return self.next\n",
    "    \n",
    "    def setNext(self, next = None):\n",
    "        self.next = next"
   ]
  },
  {
   "cell_type": "markdown",
   "metadata": {},
   "source": [
    "let's test this class out."
   ]
  },
  {
   "cell_type": "code",
   "execution_count": 2,
   "metadata": {},
   "outputs": [
    {
     "name": "stdout",
     "output_type": "stream",
     "text": [
      "Node(1)\n",
      "Node(2)\n"
     ]
    }
   ],
   "source": [
    "n1 = Node(1)\n",
    "n2 = Node('2')\n",
    "nb = Node('bee')\n",
    "print(n1)\n",
    "print(n2)"
   ]
  },
  {
   "cell_type": "markdown",
   "metadata": {},
   "source": [
    "We can manually link nodes by setting prev and next.\n",
    "\n",
    "(It's best to use getters and setters for this.)"
   ]
  },
  {
   "cell_type": "code",
   "execution_count": 3,
   "metadata": {},
   "outputs": [
    {
     "name": "stdout",
     "output_type": "stream",
     "text": [
      "At Node(1)\n",
      "At Node(2)\n",
      "At Node(1)\n"
     ]
    }
   ],
   "source": [
    "# create a double-sided link between nodes\n",
    "n1.setNext(n2)\n",
    "n2.setPrev(n1)\n",
    "# due to the default value for the second argument, \n",
    "# you can clear next or prev as follows\n",
    "# (not necessary in this case, just an example)\n",
    "n2.setNext()\n",
    "\n",
    "# test\n",
    "current = n1\n",
    "print('At', current)\n",
    "current = current.getNext()\n",
    "print('At', current)\n",
    "current = current.getPrev()\n",
    "print('At', current)"
   ]
  },
  {
   "cell_type": "markdown",
   "metadata": {},
   "source": [
    "### A list class \n",
    "next, we'll create a list class to hold nodes.\n",
    "\n",
    "currently, it does little more than keep track of the head node for us."
   ]
  },
  {
   "cell_type": "code",
   "execution_count": 4,
   "metadata": {
    "collapsed": true
   },
   "outputs": [],
   "source": [
    "class List(object):\n",
    "    def __init__(self, headNode = None):\n",
    "        self.head = headNode\n",
    "        \n",
    "    def __len__(self):\n",
    "        length = 0\n",
    "        current = self.head\n",
    "        while current != None:\n",
    "            length += 1\n",
    "            current = current.getNext()\n",
    "        return length\n",
    "    \n",
    "    def __repr__(self):\n",
    "        return (\"List of size: \"+str(len(self)))\n",
    "        # TODO: traverse the list to print contents\n",
    "            "
   ]
  },
  {
   "cell_type": "code",
   "execution_count": 5,
   "metadata": {},
   "outputs": [
    {
     "name": "stdout",
     "output_type": "stream",
     "text": [
      "List of size: 0\n",
      "List of size: 1\n"
     ]
    }
   ],
   "source": [
    "myList = List()\n",
    "print(myList)\n",
    "anotherList = List(nb)\n",
    "print(anotherList)"
   ]
  },
  {
   "cell_type": "markdown",
   "metadata": {},
   "source": [
    "Right now everything we do with a list is handled through the Node class instead.\n",
    "You might consider what would be involved with implementing the expected features\n",
    "to match parity with the default Python list class.\n",
    "\n",
    "### Mapping this to Mazes and Cells\n",
    "Right now Nodes have a previous and next reference, which point to other nodes. \n",
    "this allows us to string nodes together in a 'string-of-beads' type linear linked list.\n",
    "\n",
    "If instead of prev and next, a Node had a north, south, east, and west, they could be\n",
    "linked together in a two dimensional structure. \n",
    "\n",
    "If instead a Node had a parent, left child, and right child, they could be linked together \n",
    "in a binary tree structure. \n",
    "\n",
    "Let's implement those classes."
   ]
  },
  {
   "cell_type": "code",
   "execution_count": 13,
   "metadata": {},
   "outputs": [],
   "source": [
    "# GridNode: can be linked with other nodes in a 2d grid structure\n",
    "# note: subclassing Node means they also have a prev/next, you may not want this in \n",
    "# your implementation. (we'll just ignore them.)\n",
    "\n",
    "class GridNode(Node):\n",
    "    def __init__(self, name=None, north=None, south=None, east=None, west=None):\n",
    "        self.name = name\n",
    "        self.north = north\n",
    "        self.south = south\n",
    "        self.east = east\n",
    "        self.west = west\n",
    "        \n",
    "    def __repr__(self):\n",
    "        return(\"GridNode named: \"+str(self.name))\n",
    "    \n",
    "# we'll leave implementation of getNorth() setNorth() etc. up to you.\n",
    "# one more thing for convenience: we'll subclass to use a different name.\n",
    "\n",
    "class Cell(GridNode):\n",
    "    # init is inherited from GridNode\n",
    "    \n",
    "    def __repr__(self):\n",
    "        return(\"Cell named: \"+str(self.name))\n",
    "        "
   ]
  },
  {
   "cell_type": "code",
   "execution_count": 16,
   "metadata": {},
   "outputs": [],
   "source": [
    "# create four cells\n",
    "c1 = Cell('Room 1')\n",
    "c2 = Cell('Room 2')\n",
    "c3 = Cell('Room 3')\n",
    "c4 = Cell('Room 4')\n",
    "\n",
    "# link them as follows: \n",
    "# c1 - c2\n",
    "# |    |\n",
    "# c3 - c4\n",
    "#\n",
    "# c1 <-> c2\n",
    "c1.east = c2\n",
    "c2.west = c1\n",
    "\n",
    "# c1 <-> c3\n",
    "c1.south = c3\n",
    "c3.north = c1\n",
    "\n",
    "# c3 <-> c4\n",
    "c3.east = c4\n",
    "c4.west = c3\n",
    "\n",
    "# c2 <-> c4\n",
    "c2.south = c4\n",
    "c4.north = c2\n",
    "\n"
   ]
  },
  {
   "cell_type": "markdown",
   "metadata": {},
   "source": [
    "Let's go on a tour of the cells:"
   ]
  },
  {
   "cell_type": "code",
   "execution_count": 18,
   "metadata": {},
   "outputs": [
    {
     "name": "stdout",
     "output_type": "stream",
     "text": [
      "Starting the tour\n",
      "I'm at:  Cell named: Room 1\n",
      "I'm at:  Cell named: Room 2\n",
      "I'm at:  Cell named: Room 4\n",
      "I'm at:  Cell named: Room 3\n",
      "I'm at:  Cell named: Room 1\n",
      "Tour finished\n"
     ]
    }
   ],
   "source": [
    "# simple helper functions to save typing\n",
    "def imAt(c):\n",
    "    print(\"I'm at: \",c)\n",
    "    \n",
    "def goTo(c):\n",
    "    imAt(c)\n",
    "    return c\n",
    "    \n",
    "print('Starting the tour')\n",
    "loc = c1\n",
    "imAt(loc)\n",
    "loc = goTo(loc.east)\n",
    "loc = goTo(loc.south)\n",
    "loc = goTo(loc.west)\n",
    "loc = goTo(loc.north)\n",
    "print('Tour finished')"
   ]
  },
  {
   "cell_type": "markdown",
   "metadata": {},
   "source": [
    "You can add additional code cells, or use the included cell below to continue testing.\n"
   ]
  },
  {
   "cell_type": "code",
   "execution_count": 20,
   "metadata": {},
   "outputs": [
    {
     "name": "stdout",
     "output_type": "stream",
     "text": [
      "Cell named: Room 1\n"
     ]
    }
   ],
   "source": [
    "print(loc)"
   ]
  },
  {
   "cell_type": "code",
   "execution_count": null,
   "metadata": {
    "collapsed": true
   },
   "outputs": [],
   "source": []
  }
 ],
 "metadata": {
  "kernelspec": {
   "display_name": "Python 3",
   "language": "python",
   "name": "python3"
  },
  "language_info": {
   "codemirror_mode": {
    "name": "ipython",
    "version": 3
   },
   "file_extension": ".py",
   "mimetype": "text/x-python",
   "name": "python",
   "nbconvert_exporter": "python",
   "pygments_lexer": "ipython3",
   "version": "3.6.2"
  }
 },
 "nbformat": 4,
 "nbformat_minor": 2
}
